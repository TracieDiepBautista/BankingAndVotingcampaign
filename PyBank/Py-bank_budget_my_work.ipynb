{
 "cells": [
  {
   "cell_type": "code",
   "execution_count": 1,
   "id": "a5c7c256",
   "metadata": {},
   "outputs": [],
   "source": [
    "import os\n",
    "import csv"
   ]
  },
  {
   "cell_type": "code",
   "execution_count": 2,
   "id": "a45b14ba",
   "metadata": {},
   "outputs": [
    {
     "name": "stdout",
     "output_type": "stream",
     "text": [
      " the total months is 86\n"
     ]
    }
   ],
   "source": [
    "# Set path for file\n",
    "csvpath = os.path.join(\"Resources\",\"budget_data.csv\")\n",
    "\n",
    "# Open the CSV\n",
    "with open(csvpath) as cal:\n",
    "    Profit_Loss= csv.reader(cal, delimiter=\",\")\n",
    "    header=next(Profit_Loss)\n",
    "    #Assign the variables\n",
    "    months =[]\n",
    "    \n",
    "#call the variables available in the data file's row\n",
    "    for row in Profit_Loss:\n",
    "        the_month=row[0]\n",
    "        months.append(the_month)\n",
    "    count_of_month = len(months)\n",
    "    print(f\" the total months is {count_of_month}\")"
   ]
  },
  {
   "cell_type": "code",
   "execution_count": 3,
   "id": "3bc85b94",
   "metadata": {},
   "outputs": [
    {
     "name": "stdout",
     "output_type": "stream",
     "text": [
      "The net total amount of profit | loss over the entire period is: $38382578\n"
     ]
    }
   ],
   "source": [
    "csvpath = os.path.join(\"Resources\",\"budget_data.csv\")\n",
    "# Read the csv and convert it into a list of dictionaries\n",
    "total_months=0\n",
    "total_net=0\n",
    "net_change_list=[]\n",
    "month_of_change=[]\n",
    "# Open the CSV\n",
    "with open(csvpath) as cal:\n",
    "    profit_loss= csv.reader(cal, delimiter=\",\")\n",
    "\n",
    "    # Read the header row\n",
    "    header = next(profit_loss)\n",
    "\n",
    "    # Extract first row to avoid appending to net_change_list\n",
    "    first_row = next(profit_loss)\n",
    "    total_months += 1 #to ask the computer to add the current row when calculate the next row\n",
    "    total_net += int(first_row[1]) #adds the current net to the total net, whether positive or negative\n",
    "    prev_net = int(first_row[1]) #tells python to go and read the previous row \n",
    "\n",
    "    for row in profit_loss:\n",
    "\n",
    "        # Track the total\n",
    "        total_months += 1\n",
    "        #print(total_months)\n",
    "        total_net = total_net + int(row[1]) #find the total during entire period\n",
    "        #print(total_net)\n",
    "\n",
    "        # Track the net change\n",
    "        net_change = int(row[1]) - prev_net\n",
    "        prev_net = int(row[1])\n",
    "        net_change_list += [net_change]\n",
    "        month_of_change += [row[0]]\n",
    "print(f\"The net total amount of profit | loss over the entire period is: ${total_net}\")"
   ]
  },
  {
   "cell_type": "code",
   "execution_count": 4,
   "id": "cb0a0b01",
   "metadata": {},
   "outputs": [
    {
     "name": "stdout",
     "output_type": "stream",
     "text": [
      "1926159\n"
     ]
    }
   ],
   "source": [
    "#find the greatest increase in profits over the entire period\n",
    "increase = max(net_change_list)\n",
    "print(increase)"
   ]
  },
  {
   "cell_type": "code",
   "execution_count": 5,
   "id": "39c1304d",
   "metadata": {},
   "outputs": [
    {
     "name": "stdout",
     "output_type": "stream",
     "text": [
      "-2196167\n"
     ]
    }
   ],
   "source": [
    "#find the greatest decrease in profits over the entire period\n",
    "decrease = min(net_change_list)\n",
    "print(decrease)"
   ]
  },
  {
   "cell_type": "code",
   "execution_count": 6,
   "id": "0981e8b2",
   "metadata": {},
   "outputs": [
    {
     "name": "stdout",
     "output_type": "stream",
     "text": [
      "the average of net change is: -2315.12\n"
     ]
    }
   ],
   "source": [
    "def Average(net_change_list):\n",
    "    return sum(net_change_list) / len(net_change_list)\n",
    "average = str(round(Average(net_change_list),2))\n",
    "print(\"the average of net change is: \" + average)"
   ]
  },
  {
   "cell_type": "code",
   "execution_count": 7,
   "id": "64065ccf",
   "metadata": {},
   "outputs": [
    {
     "name": "stdout",
     "output_type": "stream",
     "text": [
      "Finacial Analysis:\n",
      "--------------------\n",
      "Total Months: 86\n",
      "Total change: 38382578\n",
      "Average change: $-2315.12\n",
      "Greatest increase in Profit: $1926159\n",
      "Greatest decrease in Profit|Loss: $-2196167\n",
      "\n"
     ]
    }
   ],
   "source": [
    "#print the outcomes as format\n",
    "Financial_Analysis = print(f\"Finacial Analysis:\\n\"\n",
    "                           f\"--------------------\\n\"\n",
    "    f\"Total Months: {total_months}\\n\"\n",
    "    f\"Total change: {total_net}\\n\"\n",
    "    f\"Average change: ${average}\\n\"\n",
    "    f\"Greatest increase in Profit: ${increase}\\n\"\n",
    "    f\"Greatest decrease in Profit|Loss: ${decrease}\\n\")"
   ]
  },
  {
   "cell_type": "code",
   "execution_count": 8,
   "id": "e26e718a",
   "metadata": {},
   "outputs": [],
   "source": [
    "# write to csv file\n",
    "output_path = os.path.join(\"output\", \"analysis.csv\")\n",
    "with open(output_path, 'w', newline='') as csvfile:\n",
    "    # Initialize csv.writer\n",
    "    csvwriter = csv.writer(csvfile, delimiter=' ')\n",
    "\n",
    "    # Write the first row (column headers)\n",
    "    csvwriter.writerow(\"text:\")\n",
    "\n",
    "    # Write the second row\n",
    "    csvwriter.writerow([\"Financial Analysis\"])\n",
    "    \n",
    "    #next rows\n",
    "    csvwriter.writerow([\"-------------------\"])\n",
    "    csvwriter.writerow([\"Total Months:\" , [total_months]])\n",
    "    csvwriter.writerow([\"Total change: \", [total_net]])\n",
    "    csvwriter.writerow([\"Average change: \", [average]])\n",
    "    csvwriter.writerow([\"Greatest increase in Profit: \" \"$\",[increase]])\n",
    "    csvwriter.writerow([\"Greatest decrease in Profit|Loss: \" \"$\",[decrease]])"
   ]
  },
  {
   "cell_type": "code",
   "execution_count": null,
   "id": "ebfed87a",
   "metadata": {},
   "outputs": [],
   "source": []
  }
 ],
 "metadata": {
  "kernelspec": {
   "display_name": "Python 3 (ipykernel)",
   "language": "python",
   "name": "python3"
  },
  "language_info": {
   "codemirror_mode": {
    "name": "ipython",
    "version": 3
   },
   "file_extension": ".py",
   "mimetype": "text/x-python",
   "name": "python",
   "nbconvert_exporter": "python",
   "pygments_lexer": "ipython3",
   "version": "3.9.7"
  }
 },
 "nbformat": 4,
 "nbformat_minor": 5
}
