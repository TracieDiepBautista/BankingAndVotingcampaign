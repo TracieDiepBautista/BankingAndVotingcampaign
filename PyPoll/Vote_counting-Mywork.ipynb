{
 "cells": [
  {
   "cell_type": "code",
   "execution_count": 3,
   "id": "eefac19e",
   "metadata": {},
   "outputs": [],
   "source": [
    "import os\n",
    "import csv"
   ]
  },
  {
   "cell_type": "code",
   "execution_count": 6,
   "id": "f2dce08f",
   "metadata": {},
   "outputs": [
    {
     "name": "stdout",
     "output_type": "stream",
     "text": [
      "There are totally 3521001 votes counted.\n"
     ]
    }
   ],
   "source": [
    "# Set path for file\n",
    "csvpath = os.path.join(\"Resources\",\"election_data.csv\")\n",
    "\n",
    "# Open the CSV\n",
    "with open(csvpath) as calculation:\n",
    "    Voting= csv.reader(calculation, delimiter=\",\")\n",
    "    header=next(Voting)\n",
    "    #Assign the variables\n",
    "    Vote_count = []\n",
    "    for x in Voting:\n",
    "        Voter_ID= x[0]\n",
    "        county = x[1]\n",
    "        Candidates = x[2]\n",
    "        Vote_count.append(Voter_ID)\n",
    "    number_of_votes = len(Vote_count)\n",
    "    print(f\"There are totally {number_of_votes} votes counted.\")\n",
    "    "
   ]
  },
  {
   "cell_type": "code",
   "execution_count": 8,
   "id": "fc66df90",
   "metadata": {},
   "outputs": [
    {
     "name": "stdout",
     "output_type": "stream",
     "text": [
      "['Khan']\n"
     ]
    },
    {
     "ename": "TypeError",
     "evalue": "'in <string>' requires string as left operand, not list",
     "output_type": "error",
     "traceback": [
      "\u001b[0;31m---------------------------------------------------------------------------\u001b[0m",
      "\u001b[0;31mTypeError\u001b[0m                                 Traceback (most recent call last)",
      "\u001b[0;32m/var/folders/yn/xk1nllmx5_j6zx9bwj6p24kw0000gn/T/ipykernel_69827/335124298.py\u001b[0m in \u001b[0;36m<module>\u001b[0;34m\u001b[0m\n\u001b[1;32m     19\u001b[0m         \u001b[0mcandidate_name\u001b[0m\u001b[0;34m.\u001b[0m\u001b[0mappend\u001b[0m\u001b[0;34m(\u001b[0m\u001b[0mcandidate\u001b[0m\u001b[0;34m)\u001b[0m\u001b[0;34m\u001b[0m\u001b[0;34m\u001b[0m\u001b[0m\n\u001b[1;32m     20\u001b[0m         \u001b[0mprint\u001b[0m\u001b[0;34m(\u001b[0m\u001b[0mcandidate_name\u001b[0m\u001b[0;34m)\u001b[0m\u001b[0;34m\u001b[0m\u001b[0;34m\u001b[0m\u001b[0m\n\u001b[0;32m---> 21\u001b[0;31m         \u001b[0;32mif\u001b[0m \u001b[0mcandidate_name\u001b[0m \u001b[0;34m!=\u001b[0m \u001b[0mcandidate\u001b[0m \u001b[0;32mand\u001b[0m \u001b[0mcandidate_name\u001b[0m \u001b[0;32mnot\u001b[0m \u001b[0;32min\u001b[0m \u001b[0mcandidate\u001b[0m\u001b[0;34m:\u001b[0m\u001b[0;34m\u001b[0m\u001b[0;34m\u001b[0m\u001b[0m\n\u001b[0m\u001b[1;32m     22\u001b[0m             \u001b[0mcomplete_candidate\u001b[0m\u001b[0;34m.\u001b[0m\u001b[0mappend\u001b[0m\u001b[0;34m(\u001b[0m\u001b[0mcandidate_name\u001b[0m\u001b[0;34m)\u001b[0m\u001b[0;34m\u001b[0m\u001b[0;34m\u001b[0m\u001b[0m\n\u001b[1;32m     23\u001b[0m             \u001b[0mprint\u001b[0m\u001b[0;34m(\u001b[0m\u001b[0;34m[\u001b[0m\u001b[0mcomplete_candidate\u001b[0m\u001b[0;34m]\u001b[0m\u001b[0;34m)\u001b[0m\u001b[0;34m\u001b[0m\u001b[0;34m\u001b[0m\u001b[0m\n",
      "\u001b[0;31mTypeError\u001b[0m: 'in <string>' requires string as left operand, not list"
     ]
    }
   ],
   "source": [
    "#find the complete candidate_names who received votes\n",
    "    #to find the full list of names in the file first, then find out the complete_candidates wo repeating\n",
    "\n",
    "# Open the CSV\n",
    "with open(csvpath) as calculation:\n",
    "    Voting= csv.reader(calculation, delimiter=\",\")\n",
    "    header=next(Voting)\n",
    "    \n",
    "    #Assign the variables    \n",
    "    \n",
    "    candidate_name = []\n",
    "    complete_candidate =[]\n",
    "\n",
    "    \n",
    "    #do loop to find list of candidate_name first\n",
    "    for x in Voting:\n",
    "        candidate = x[-1]\n",
    "        Count_candidate = int()\n",
    "        candidate_name.append(candidate)\n",
    "        print(candidate_name)\n",
    "        if candidate_name != candidate and candidate_name not in candidate:\n",
    "            complete_candidate.append(candidate_name)\n",
    "            print([complete_candidate])\n",
    "        number_of_candidate = len(complete_candidate)\n",
    "        print(number_of_candidate)"
   ]
  },
  {
   "cell_type": "code",
   "execution_count": null,
   "id": "18579a96",
   "metadata": {},
   "outputs": [],
   "source": []
  },
  {
   "cell_type": "code",
   "execution_count": null,
   "id": "4e0a4c6c",
   "metadata": {},
   "outputs": [],
   "source": []
  },
  {
   "cell_type": "code",
   "execution_count": null,
   "id": "d0865c68",
   "metadata": {},
   "outputs": [],
   "source": [
    "#set the candidate_list as {}"
   ]
  }
 ],
 "metadata": {
  "kernelspec": {
   "display_name": "Python 3 (ipykernel)",
   "language": "python",
   "name": "python3"
  },
  "language_info": {
   "codemirror_mode": {
    "name": "ipython",
    "version": 3
   },
   "file_extension": ".py",
   "mimetype": "text/x-python",
   "name": "python",
   "nbconvert_exporter": "python",
   "pygments_lexer": "ipython3",
   "version": "3.9.7"
  }
 },
 "nbformat": 4,
 "nbformat_minor": 5
}
