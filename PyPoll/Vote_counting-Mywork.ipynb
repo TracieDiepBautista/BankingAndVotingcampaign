{
 "cells": [
  {
   "cell_type": "code",
   "execution_count": 7,
   "id": "eefac19e",
   "metadata": {},
   "outputs": [],
   "source": [
    "import os\n",
    "import csv"
   ]
  },
  {
   "cell_type": "code",
   "execution_count": 8,
   "id": "f2dce08f",
   "metadata": {},
   "outputs": [
    {
     "name": "stdout",
     "output_type": "stream",
     "text": [
      "There are totally 3521001 votes counted.\n"
     ]
    }
   ],
   "source": [
    "# Set path for file\n",
    "csvpath = os.path.join(\"Resources\",\"election_data.csv\")\n",
    "\n",
    "# Open the CSV\n",
    "with open(csvpath) as calculation:\n",
    "    Voting= csv.reader(calculation, delimiter=\",\")\n",
    "    header=next(Voting)\n",
    "    #Assign the variables\n",
    "    Vote_count = []\n",
    "    for x in Voting:\n",
    "        Voter_ID= x[0]\n",
    "        county = x[1]\n",
    "        Candidates = x[2]\n",
    "        Vote_count.append(Voter_ID)\n",
    "    number_of_votes = len(Vote_count)\n",
    "    print(f\"There are totally {number_of_votes} votes counted.\")\n",
    "    "
   ]
  },
  {
   "cell_type": "code",
   "execution_count": 9,
   "id": "fc66df90",
   "metadata": {},
   "outputs": [
    {
     "name": "stdout",
     "output_type": "stream",
     "text": [
      "['Khan']\n",
      "['Khan', 'Correy']\n",
      "['Khan', 'Correy', 'Li']\n",
      "['Khan', 'Correy', 'Li', \"O'Tooley\"]\n"
     ]
    }
   ],
   "source": [
    "#find the complete candidate_names who received votes\n",
    "    #to find the full list of names in the file first, then find out the complete_candidates without duplicating\n",
    "\n",
    "# Open the CSV\n",
    "with open(csvpath) as calculation:\n",
    "    Voting= csv.reader(calculation, delimiter=\",\")\n",
    "    header=next(Voting)\n",
    "    \n",
    "    #Assign the variables    \n",
    "    \n",
    "    candidate_name = []\n",
    "    candidate_list = []\n",
    "    \n",
    "    #do loop to find list of candidate_name first\n",
    "    for x in Voting:\n",
    "        candidate = x[-1]\n",
    "        candidate_list.append(candidate)\n",
    "        if candidate not in candidate_name:\n",
    "            candidate_name.append(candidate)\n",
    "            print(candidate_name)"
   ]
  },
  {
   "cell_type": "code",
   "execution_count": 10,
   "id": "4e0a4c6c",
   "metadata": {},
   "outputs": [
    {
     "name": "stdout",
     "output_type": "stream",
     "text": [
      "4\n"
     ]
    }
   ],
   "source": [
    "number_of_candidate = len(candidate_name)\n",
    "print(number_of_candidate)"
   ]
  },
  {
   "cell_type": "code",
   "execution_count": 11,
   "id": "d0865c68",
   "metadata": {},
   "outputs": [
    {
     "name": "stdout",
     "output_type": "stream",
     "text": [
      "Khan: 63%, (2218231 votes)\n",
      "Correy: 20%, (704200 votes)\n",
      "Li: 14%, (492940 votes)\n",
      "O'Tooley: 3%, (105630 votes)\n",
      "-----------------\n"
     ]
    }
   ],
   "source": [
    "#find out how many votes each can. received by count the \"candidate\" column to see how many time repeated in name:\n",
    "\n",
    "max = 0\n",
    "winner = \"\"\n",
    "for name in candidate_name:\n",
    "    #print(name)\n",
    "    Vote = candidate_list.count(name)\n",
    "    #print(Vote)\n",
    "    \n",
    "    if Vote > max:\n",
    "        max = Vote\n",
    "        winner = name\n",
    "\n",
    "    result = print(f\"{name}: {round(Vote/number_of_votes*100)}%, ({Vote} votes)\")      \n",
    "print(\"-----------------\")"
   ]
  },
  {
   "cell_type": "code",
   "execution_count": 12,
   "id": "21445341",
   "metadata": {},
   "outputs": [
    {
     "name": "stdout",
     "output_type": "stream",
     "text": [
      "2218231 Khan\n"
     ]
    }
   ],
   "source": [
    "# Find the winner by max function\n",
    "print(max,winner)"
   ]
  },
  {
   "cell_type": "code",
   "execution_count": 19,
   "id": "1bc21daa",
   "metadata": {},
   "outputs": [],
   "source": [
    "# write to csv file\n",
    "csv_path = os.path.join(\"Resources\",\"election_data.csv\")\n",
    "with open(csv_path, 'w', newline='') as csvfile:\n",
    "    \n",
    "    # Initialize csv.writer\n",
    "    csvwriter = csv.writer(csvfile, delimiter=',')\n",
    "\n",
    "    # Write the first row (column headers)\n",
    "    csvwriter.writerow(\"Election Results:\")\n",
    "\n",
    "    # Write the second row\n",
    "    csvwriter.writerow([\"-----------------\"])\n",
    "    \n",
    "    #next rows\n",
    "    csvwriter.writerow(f\"{name}: {round(Vote/number_of_votes*100)}%, ({Vote} votes)\")\n",
    "    csvwriter.writerow([\"Winner: \", \"Khan\", \"63%\", max])"
   ]
  },
  {
   "cell_type": "code",
   "execution_count": null,
   "id": "fd787245",
   "metadata": {},
   "outputs": [],
   "source": []
  },
  {
   "cell_type": "code",
   "execution_count": null,
   "id": "3039f733",
   "metadata": {},
   "outputs": [],
   "source": []
  },
  {
   "cell_type": "code",
   "execution_count": null,
   "id": "17b44089",
   "metadata": {},
   "outputs": [],
   "source": []
  },
  {
   "cell_type": "code",
   "execution_count": null,
   "id": "ec1c28f4",
   "metadata": {},
   "outputs": [],
   "source": []
  },
  {
   "cell_type": "code",
   "execution_count": null,
   "id": "ff657177",
   "metadata": {},
   "outputs": [],
   "source": []
  }
 ],
 "metadata": {
  "kernelspec": {
   "display_name": "Python 3 (ipykernel)",
   "language": "python",
   "name": "python3"
  },
  "language_info": {
   "codemirror_mode": {
    "name": "ipython",
    "version": 3
   },
   "file_extension": ".py",
   "mimetype": "text/x-python",
   "name": "python",
   "nbconvert_exporter": "python",
   "pygments_lexer": "ipython3",
   "version": "3.9.7"
  }
 },
 "nbformat": 4,
 "nbformat_minor": 5
}
