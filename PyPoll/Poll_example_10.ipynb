{
 "cells": [
  {
   "cell_type": "code",
   "execution_count": 1,
   "id": "ad488c25",
   "metadata": {},
   "outputs": [],
   "source": [
    "import os\n",
    "import csv"
   ]
  },
  {
   "cell_type": "code",
   "execution_count": 11,
   "id": "7dfbaec5",
   "metadata": {},
   "outputs": [
    {
     "name": "stdout",
     "output_type": "stream",
     "text": [
      "['Voter ID', 'County', 'Candidate']\n",
      "12864552\n",
      "17444633\n",
      "19330107\n",
      "19865775\n",
      "11927875\n",
      "19014606\n",
      "17775191\n",
      "14003692\n",
      "14255761\n",
      "13870173\n"
     ]
    }
   ],
   "source": [
    "# Set path for file\n",
    "csvpath = os.path.join(\"example_budget.csv\")\n",
    "\n",
    "# Open the CSV\n",
    "with open(csvpath) as calculation:\n",
    "    Voting= csv.reader(calculation, delimiter=\",\")\n",
    "    header=next(Voting)\n",
    "    print(header)\n",
    "    for x in Voting: #\n",
    "        #print(x)\n",
    "        voter_id = x[0] \n",
    "        print(voter_id)"
   ]
  },
  {
   "cell_type": "code",
   "execution_count": 29,
   "id": "784a4b77",
   "metadata": {},
   "outputs": [
    {
     "name": "stdout",
     "output_type": "stream",
     "text": [
      "There are totally 10 votes counted.\n"
     ]
    }
   ],
   "source": [
    "with open(csvpath) as calculation:\n",
    "    Voting= csv.reader(calculation, delimiter=\",\")\n",
    "    header=next(Voting)\n",
    "    Vote_count =[] \n",
    "    Candidate_name = []\n",
    "    \n",
    "    for x in Voting:  #for each row in the file Voting:\n",
    "        Voter_ID= x[0]  #just one single row to be represented; and loop will do the interating task row by row\n",
    "        #county = x[1]\n",
    "        Candidates = x[2]\n",
    "        Vote_count.append(Candidates)\n",
    "        Candidate_name.append(Candidates)\n",
    "        \n",
    "    number_of_votes = len(Vote_count)\n",
    "    print(f\"There are totally {number_of_votes} votes counted.\")\n",
    "  "
   ]
  },
  {
   "cell_type": "code",
   "execution_count": null,
   "id": "a739fb53",
   "metadata": {},
   "outputs": [],
   "source": []
  },
  {
   "cell_type": "code",
   "execution_count": 21,
   "id": "be482c94",
   "metadata": {},
   "outputs": [
    {
     "name": "stdout",
     "output_type": "stream",
     "text": [
      "['Khan', 'Correy', 'Khan', 'Khan', 'Khan', 'Li', 'Correy', 'Khan', 'Khan', 'Correy']\n"
     ]
    }
   ],
   "source": [
    "print(Vote_count)"
   ]
  },
  {
   "cell_type": "code",
   "execution_count": 30,
   "id": "7cf35dbb",
   "metadata": {},
   "outputs": [
    {
     "name": "stdout",
     "output_type": "stream",
     "text": [
      "['Khan', 'Correy', 'Khan', 'Khan', 'Khan', 'Li', 'Correy', 'Khan', 'Khan', 'Correy']\n"
     ]
    }
   ],
   "source": [
    "print(Candidate_name)"
   ]
  },
  {
   "cell_type": "code",
   "execution_count": 31,
   "id": "f204cef1",
   "metadata": {},
   "outputs": [
    {
     "name": "stdout",
     "output_type": "stream",
     "text": [
      "['13870173', 'Marsh', 'Correy']\n"
     ]
    }
   ],
   "source": [
    "print(x)"
   ]
  },
  {
   "cell_type": "code",
   "execution_count": 34,
   "id": "d7a68991",
   "metadata": {},
   "outputs": [
    {
     "name": "stdout",
     "output_type": "stream",
     "text": [
      "Correy\n"
     ]
    }
   ],
   "source": [
    "print(Candidates)"
   ]
  },
  {
   "cell_type": "code",
   "execution_count": 42,
   "id": "7a792886",
   "metadata": {},
   "outputs": [
    {
     "name": "stdout",
     "output_type": "stream",
     "text": [
      "['Khan']\n",
      "['Khan', 'Correy']\n",
      "['Khan', 'Correy', 'Li']\n",
      "['Khan', 'Correy', 'Li', \"O'Tooley\"]\n",
      "4\n"
     ]
    }
   ],
   "source": [
    "#find the complete candidate_names who received votes\n",
    "    #to find the full list of names in the file first, then find out the complete_candidates wo repeating\n",
    "\n",
    "# Open the CSV\n",
    "with open(csvpath) as calculation:\n",
    "    Voting= csv.reader(calculation, delimiter=\",\")\n",
    "    header=next(Voting)\n",
    "    \n",
    "    #Assign the variables    \n",
    "    \n",
    "    candidate_name = []\n",
    "    complete_candidate =[]\n",
    "\n",
    "    \n",
    "    #do loop to find list of candidate_name first\n",
    "    for x in Voting:\n",
    "        candidate = x[-1]\n",
    "        #Count_candidate = int()\n",
    "        candidate_name.append(candidate)\n",
    "        #print(candidate_name)\n",
    "        \n",
    "        if candidate not in complete_candidate:\n",
    "            complete_candidate.append(candidate)\n",
    "            print(complete_candidate)\n",
    "            \n",
    "    #count the number of candidate, no need to be in the loop\n",
    "    number_of_candidate = len(complete_candidate)\n",
    "    print(number_of_candidate)"
   ]
  },
  {
   "cell_type": "code",
   "execution_count": 43,
   "id": "bf09f216",
   "metadata": {},
   "outputs": [
    {
     "name": "stdout",
     "output_type": "stream",
     "text": [
      "['Khan', 'Correy', 'Khan', 'Khan', 'Khan', 'Li', \"O'Tooley\", 'Khan', 'Khan', 'Correy']\n"
     ]
    }
   ],
   "source": [
    "print(candidate_name)"
   ]
  },
  {
   "cell_type": "code",
   "execution_count": 56,
   "id": "7c15ce86",
   "metadata": {},
   "outputs": [
    {
     "name": "stdout",
     "output_type": "stream",
     "text": [
      "Khan,6 votes,60.0%\n",
      "Correy,2 votes,20.0%\n",
      "Li,1 votes,10.0%\n",
      "O'Tooley,1 votes,10.0%\n"
     ]
    }
   ],
   "source": [
    "winner = \"\"\n",
    "max = 0\n",
    "for name in complete_candidate:\n",
    "    #print(name)\n",
    "    vote = candidate_name.count(name)\n",
    "    if vote > max:\n",
    "        max = vote\n",
    "        winner = name \n",
    "    print(f\"{name},{vote} votes,{(vote/number_of_votes*100)}%\")\n",
    "#print(max,winner)\n",
    "#number_of_candidate"
   ]
  },
  {
   "cell_type": "code",
   "execution_count": 59,
   "id": "71995d52",
   "metadata": {},
   "outputs": [
    {
     "name": "stdout",
     "output_type": "stream",
     "text": [
      "total_vote: 10\n",
      "winner is: Khan\n"
     ]
    }
   ],
   "source": [
    "print(f\"total_vote: {number_of_votes}\")\n",
    "print(f\"winner is: {winner}\")"
   ]
  },
  {
   "cell_type": "code",
   "execution_count": null,
   "id": "f495b689",
   "metadata": {},
   "outputs": [],
   "source": []
  },
  {
   "cell_type": "code",
   "execution_count": null,
   "id": "fdb0cccd",
   "metadata": {},
   "outputs": [],
   "source": []
  },
  {
   "cell_type": "code",
   "execution_count": null,
   "id": "a8fbeed2",
   "metadata": {},
   "outputs": [],
   "source": []
  },
  {
   "cell_type": "code",
   "execution_count": null,
   "id": "802a4fe9",
   "metadata": {},
   "outputs": [],
   "source": []
  },
  {
   "cell_type": "code",
   "execution_count": null,
   "id": "41608454",
   "metadata": {},
   "outputs": [],
   "source": []
  },
  {
   "cell_type": "code",
   "execution_count": null,
   "id": "a505b667",
   "metadata": {},
   "outputs": [],
   "source": []
  },
  {
   "cell_type": "code",
   "execution_count": null,
   "id": "b54b4dfe",
   "metadata": {},
   "outputs": [],
   "source": []
  },
  {
   "cell_type": "code",
   "execution_count": null,
   "id": "f30aa6e5",
   "metadata": {},
   "outputs": [],
   "source": []
  },
  {
   "cell_type": "code",
   "execution_count": null,
   "id": "e7fd2f85",
   "metadata": {},
   "outputs": [],
   "source": []
  },
  {
   "cell_type": "code",
   "execution_count": null,
   "id": "926aa0c0",
   "metadata": {},
   "outputs": [],
   "source": []
  },
  {
   "cell_type": "code",
   "execution_count": null,
   "id": "df31aeac",
   "metadata": {},
   "outputs": [],
   "source": []
  },
  {
   "cell_type": "code",
   "execution_count": null,
   "id": "a5b235dc",
   "metadata": {},
   "outputs": [],
   "source": []
  },
  {
   "cell_type": "code",
   "execution_count": null,
   "id": "6e180555",
   "metadata": {},
   "outputs": [],
   "source": []
  },
  {
   "cell_type": "code",
   "execution_count": null,
   "id": "c364811e",
   "metadata": {},
   "outputs": [],
   "source": []
  },
  {
   "cell_type": "code",
   "execution_count": null,
   "id": "793208fd",
   "metadata": {},
   "outputs": [],
   "source": []
  },
  {
   "cell_type": "code",
   "execution_count": null,
   "id": "d5248ad1",
   "metadata": {},
   "outputs": [],
   "source": []
  },
  {
   "cell_type": "code",
   "execution_count": null,
   "id": "545d6efb",
   "metadata": {},
   "outputs": [],
   "source": []
  },
  {
   "cell_type": "code",
   "execution_count": null,
   "id": "492db73f",
   "metadata": {},
   "outputs": [],
   "source": []
  },
  {
   "cell_type": "code",
   "execution_count": null,
   "id": "3d86a593",
   "metadata": {},
   "outputs": [],
   "source": []
  },
  {
   "cell_type": "code",
   "execution_count": null,
   "id": "a339c6f0",
   "metadata": {},
   "outputs": [],
   "source": []
  },
  {
   "cell_type": "code",
   "execution_count": null,
   "id": "93545c14",
   "metadata": {},
   "outputs": [],
   "source": []
  },
  {
   "cell_type": "code",
   "execution_count": null,
   "id": "8956680d",
   "metadata": {},
   "outputs": [],
   "source": []
  },
  {
   "cell_type": "code",
   "execution_count": null,
   "id": "0e620b39",
   "metadata": {},
   "outputs": [],
   "source": []
  },
  {
   "cell_type": "code",
   "execution_count": null,
   "id": "46d5a706",
   "metadata": {},
   "outputs": [],
   "source": []
  },
  {
   "cell_type": "code",
   "execution_count": 17,
   "id": "28f3628e",
   "metadata": {},
   "outputs": [
    {
     "name": "stdout",
     "output_type": "stream",
     "text": [
      "['12864552', '17444633', '19330107', '19865775', '11927875', '19014606', '17775191', '14003692', '14255761', '13870173']\n"
     ]
    }
   ],
   "source": [
    "print(Vote_count)"
   ]
  },
  {
   "cell_type": "code",
   "execution_count": null,
   "id": "bc49f76d",
   "metadata": {},
   "outputs": [],
   "source": []
  },
  {
   "cell_type": "code",
   "execution_count": null,
   "id": "66f05560",
   "metadata": {},
   "outputs": [],
   "source": []
  },
  {
   "cell_type": "code",
   "execution_count": null,
   "id": "8c303af7",
   "metadata": {},
   "outputs": [],
   "source": []
  },
  {
   "cell_type": "code",
   "execution_count": null,
   "id": "2b2f4b25",
   "metadata": {},
   "outputs": [],
   "source": []
  },
  {
   "cell_type": "code",
   "execution_count": null,
   "id": "a0db5aa3",
   "metadata": {},
   "outputs": [],
   "source": []
  },
  {
   "cell_type": "code",
   "execution_count": null,
   "id": "a2c5c501",
   "metadata": {},
   "outputs": [],
   "source": []
  },
  {
   "cell_type": "code",
   "execution_count": null,
   "id": "d281385f",
   "metadata": {},
   "outputs": [],
   "source": []
  },
  {
   "cell_type": "code",
   "execution_count": null,
   "id": "674a5262",
   "metadata": {},
   "outputs": [],
   "source": []
  },
  {
   "cell_type": "code",
   "execution_count": null,
   "id": "4fbea366",
   "metadata": {},
   "outputs": [],
   "source": []
  },
  {
   "cell_type": "code",
   "execution_count": null,
   "id": "405d54e4",
   "metadata": {},
   "outputs": [],
   "source": []
  },
  {
   "cell_type": "code",
   "execution_count": null,
   "id": "e4771846",
   "metadata": {},
   "outputs": [],
   "source": []
  },
  {
   "cell_type": "code",
   "execution_count": null,
   "id": "9800b722",
   "metadata": {},
   "outputs": [],
   "source": []
  },
  {
   "cell_type": "code",
   "execution_count": null,
   "id": "019a723e",
   "metadata": {},
   "outputs": [],
   "source": []
  }
 ],
 "metadata": {
  "kernelspec": {
   "display_name": "Python 3 (ipykernel)",
   "language": "python",
   "name": "python3"
  },
  "language_info": {
   "codemirror_mode": {
    "name": "ipython",
    "version": 3
   },
   "file_extension": ".py",
   "mimetype": "text/x-python",
   "name": "python",
   "nbconvert_exporter": "python",
   "pygments_lexer": "ipython3",
   "version": "3.9.7"
  }
 },
 "nbformat": 4,
 "nbformat_minor": 5
}
